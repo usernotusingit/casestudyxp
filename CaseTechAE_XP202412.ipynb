{
 "cells": [
  {
   "cell_type": "markdown",
   "metadata": {
    "application/vnd.databricks.v1+cell": {
     "cellMetadata": {},
     "inputWidgets": {},
     "nuid": "42516775-7d97-464b-84b4-91ea13738a37",
     "showTitle": false,
     "tableResultSettingsMap": {},
     "title": ""
    }
   },
   "source": [
    "# Breve Introdução"
   ]
  },
  {
   "cell_type": "markdown",
   "metadata": {
    "application/vnd.databricks.v1+cell": {
     "cellMetadata": {},
     "inputWidgets": {},
     "nuid": "41973f6b-7f2d-4138-9d66-47be689fb724",
     "showTitle": false,
     "tableResultSettingsMap": {},
     "title": ""
    }
   },
   "source": [
    "**USE PYSPARK OU SQL PARA RESOLVER AS QUESTÕES ABAIXO**"
   ]
  },
  {
   "cell_type": "markdown",
   "metadata": {
    "application/vnd.databricks.v1+cell": {
     "cellMetadata": {},
     "inputWidgets": {},
     "nuid": "232f6618-8065-499b-9ec2-a281407bac1b",
     "showTitle": false,
     "tableResultSettingsMap": {},
     "title": ""
    }
   },
   "source": [
    "\n",
    "**NENHUM DADO DISPONIBILIZADO É REAL**\n",
    "\n",
    "Uma das áreas de negócio da XP é o B2B, onde empresas denominadas de escritórios de investimentos, fazem uma parceria com a XP para que seus clientes invistam através de nossa plataforma. Esses escritórios atendem nossos clientes com os assessores autônomos de invesmento, que ajudam as pessoas a investirem melhor. Depois de uma reunião com um dos gerentes da nossa área B2B, ficou claro que a carteira de muitos clientes estava desalinhada com as carteiras recomendadas para seu perfil e caso conseguíssemos reduzir esse desalinhamento, iriamos ajudar os clientes tornando suas carteiras mais seguras e rentáveis ao mesmo tempo que aumentaríamos nossa receita. Criamos então um projeto separado em 4 etapas para conseguirmos aumentar a aderência das carteiras de invesmento dos clientes dentro de seu suitability.\n"
   ]
  },
  {
   "cell_type": "markdown",
   "metadata": {
    "application/vnd.databricks.v1+cell": {
     "cellMetadata": {},
     "inputWidgets": {},
     "nuid": "7e844323-54ad-4cbf-bbd3-daf5c1eeb1b2",
     "showTitle": false,
     "tableResultSettingsMap": {},
     "title": ""
    }
   },
   "source": [
    "**Entendendo melhor a nosso banco de dados**\n",
    "\n",
    "As tabelas disponibilizadas para esse desafio como você pode perceber na query acima possuem dois prefixos diferentes, sendo eles; FAT_ e DIM_\n",
    "\n",
    "* **FAT_**: São as tabelas fato, o que significa que são tabelas que guardam os fatos históricos de algum acontecimento. Então de forma periódica algumas informações podem se repetir\n",
    "  \n",
    "  Exemplo: Se estivéssemos falando de uma tabela fato de vendas por cliente, teríamos uma tabela onde cada linha seria o total de vendas de um cliente naquele dia, então o mesmo cliente poderá se repetir na tabela várias vezes, porque as vendas podem acontecer em vários dias diferentes.\n",
    "  \n",
    "* **DIM_**: São as tabelas dimensão, elas se relacionam com as tabelas fato e guardam informações sobre algo, geralmente são tabelas com menos linhas e mais colunas que as fato.\n",
    "\n",
    "  Exemplo: Pegando o exemplo de vendas da fato explicada acima. Na fato a conta do cliente vai se repetir várias vezes por conta dos dias, então é mantido na tabela fato apenas o código do cliente e na tabela dimensão vão ter todas as informações sobre os clientes, por exemplo o nome, idade, profissão e etc... dessa forma essas informações de texto não vão se repetir na tabela fato tornando a tabela muito mais rápida e menor.\n",
    "  \n",
    "**O que são os COD_DIM?**\n",
    "\n",
    "Você vai perceber que em nossas tabelas existem colunas com o nome COD_DIM_, essas colunas são códigos que são usados para se relacionar dimensões e fatos, então por exemplo a coluna COD_DIM_TEMPO da tabela DIM_TEMPO, também existe na tabela fato FAT_NET_MENSAL e é usada para levar informações sobre o tempo para a tabela fato, que por sua vez fica mais rápida por não ter dados de texto."
   ]
  },
  {
   "cell_type": "markdown",
   "metadata": {
    "application/vnd.databricks.v1+cell": {
     "cellMetadata": {},
     "inputWidgets": {},
     "nuid": "5fde99d2-ec52-4558-a0db-bd982b552eab",
     "showTitle": false,
     "tableResultSettingsMap": {},
     "title": ""
    }
   },
   "source": [
    "# Preparação (Desafio 0)"
   ]
  },
  {
   "cell_type": "markdown",
   "metadata": {
    "application/vnd.databricks.v1+cell": {
     "cellMetadata": {},
     "inputWidgets": {},
     "nuid": "0aed49aa-bfae-485d-8b6c-d8ba6895655b",
     "showTitle": false,
     "tableResultSettingsMap": {},
     "title": ""
    }
   },
   "source": [
    "Após ter criado o cluster e carregado os arquivos CSV para o Databricks chegou a hora de transformá-los em tabelas.\n",
    "Use a célula abaixo ou (crie células, se necessário) para transformar os arquivos fornecidos em Tabelas do Databricks.\n",
    "\n",
    "\n"
   ]
  },
  {
   "cell_type": "markdown",
   "metadata": {
    "application/vnd.databricks.v1+cell": {
     "cellMetadata": {},
     "inputWidgets": {},
     "nuid": "04414c16-c8cf-4df5-8f94-81d909482367",
     "showTitle": false,
     "tableResultSettingsMap": {},
     "title": ""
    }
   },
   "source": [
    "Quando uma tabela é criada o resultado da query fica como \"Query returned no results\", não se preocupe, isso significa que a tabela foi criada com sucesso, você pode consulta-la após isso fazendo um select, como mostrado na célula a seguir"
   ]
  },
  {
   "cell_type": "code",
   "execution_count": 0,
   "metadata": {
    "application/vnd.databricks.v1+cell": {
     "cellMetadata": {
      "byteLimit": 2048000,
      "rowLimit": 10000
     },
     "inputWidgets": {},
     "nuid": "ceb5a5ca-be6d-4c33-9d46-e879f46aed90",
     "showTitle": false,
     "tableResultSettingsMap": {},
     "title": ""
    }
   },
   "outputs": [],
   "source": [
    "%python\n",
    "\n",
    "def read_csv(file_name:str):\n",
    "    '''\n",
    "    Read the csv file loaded into FileStore location and outputs an spark dataframe\n",
    "    '''\n",
    "    # File location and type\n",
    "    file_location = \"/FileStore/tables/{}.csv\".format(file_name)\n",
    "    file_type = \"csv\"\n",
    "    \n",
    "    # CSV options\n",
    "    infer_schema = \"true\"\n",
    "    first_row_is_header = \"true\"\n",
    "    delimiter = \";\"\n",
    "    \n",
    "    # The applied options are for CSV files. For other file types, these will be ignored.\n",
    "    return spark.read.format(file_type) \\\n",
    "    .option(\"inferSchema\", infer_schema) \\\n",
    "    .option(\"header\", first_row_is_header) \\\n",
    "    .option(\"sep\", delimiter) \\\n",
    "    .load(file_location)"
   ]
  },
  {
   "cell_type": "code",
   "execution_count": 0,
   "metadata": {
    "application/vnd.databricks.v1+cell": {
     "cellMetadata": {
      "byteLimit": 2048000,
      "rowLimit": 10000
     },
     "inputWidgets": {},
     "nuid": "413b5cb3-3d8f-4f98-8521-9f08d450fe01",
     "showTitle": false,
     "tableResultSettingsMap": {},
     "title": ""
    }
   },
   "outputs": [],
   "source": [
    "%python\n",
    "\n",
    "lista_nomes_tabela = [\n",
    "    'fat_recomendacao',\n",
    "    'fat_net_mensal',\n",
    "    'dim_produto',\n",
    "    'dim_conta_suitability',\n",
    "    'dim_canal_assessor'\n",
    "]\n",
    "\n",
    "for nome_tabela in lista_nomes_tabela:\n",
    "    df = read_csv(file_name = nome_tabela)\n",
    "    (\n",
    "        df.write\n",
    "          .mode('overwrite')\n",
    "          .option(\"overwriteSchema\", \"true\")\n",
    "          .saveAsTable(nome_tabela)\n",
    "    )"
   ]
  },
  {
   "cell_type": "markdown",
   "metadata": {
    "application/vnd.databricks.v1+cell": {
     "cellMetadata": {},
     "inputWidgets": {},
     "nuid": "d0f2211e-43b5-44fb-bc17-a1e15e0762fb",
     "showTitle": false,
     "tableResultSettingsMap": {},
     "title": ""
    }
   },
   "source": [
    "<br>\n",
    "Para finalizar nossa preparação, essa etapa consiste em criar uma tabela que lista o suitability e a custódia mensal dos clientes do B2B para cada estratégia diferente de produto.\n",
    "Portanto, é importante identificar qual (ou quais) tabela(s) fato ou dimensão você irá usar.\n",
    "\n",
    "**Notas:**\n",
    "- Suitability é o perfil do investidor, pode ser conservador, moderado ou agressivo e representa o quanto de risco o cliente está disposto a assumir pelo retorno\n",
    "- Custódia é o tanto de dinheiro dos clientes que está investido dentro da plataforma XP. Esse dinheiro não é da XP\n",
    "- Estratégia de produto é um tipo de classificação de produto que assume as seguintes categorias: Prefixado, Pós-Fixado, Inflação, Multimercado, Renda Variável e Internacional\n",
    "- Se o assessor de algum cliente é do B2B, então esse cliente também é considerado desse canal\n",
    "\n",
    "\n",
    "*Lembre-se de antes de usar esse notebook ativar o cluster, para isso uma vez que ele já tenha sido criado, basta clicar no botão \"Detached\" encontrado no canto esquerdo superior abaixo do título do notebook. Para mais informações olhe o tutorial em word*\n",
    "\n",
    "Agora, com as tabelas tabelas fato e dimensão criadas crie a *fat_custodia_conta_mensal*:"
   ]
  },
  {
   "cell_type": "markdown",
   "metadata": {
    "application/vnd.databricks.v1+cell": {
     "cellMetadata": {},
     "inputWidgets": {},
     "nuid": "2fd6b437-39ba-4aa4-a996-87f5700cdd7a",
     "showTitle": false,
     "tableResultSettingsMap": {},
     "title": ""
    }
   },
   "source": [
    "##### Atenção: Nomeie essa tabela com o seguinte nome: fat_custodia_conta_mensal"
   ]
  },
  {
   "cell_type": "code",
   "execution_count": 0,
   "metadata": {
    "application/vnd.databricks.v1+cell": {
     "cellMetadata": {
      "byteLimit": 2048000,
      "rowLimit": 10000
     },
     "inputWidgets": {},
     "nuid": "658cda80-0708-4496-84cf-b9dce386252d",
     "showTitle": false,
     "tableResultSettingsMap": {},
     "title": ""
    }
   },
   "outputs": [],
   "source": [
    "import pyspark.sql.functions as F\n",
    "from pyspark.sql.window import Window"
   ]
  },
  {
   "cell_type": "code",
   "execution_count": 0,
   "metadata": {
    "application/vnd.databricks.v1+cell": {
     "cellMetadata": {
      "byteLimit": 2048000,
      "rowLimit": 10000
     },
     "inputWidgets": {},
     "nuid": "0f2ea4bc-1db1-4756-b703-65d4b552ea95",
     "showTitle": false,
     "tableResultSettingsMap": {},
     "title": ""
    }
   },
   "outputs": [],
   "source": [
    "# OUTPUT -> fat_custodia_conta_mensal\n",
    "# OUTPUT COLUMNS:\n",
    "#     COD_DIM_TEMPO\n",
    "#     COD_DIM_CONTA\n",
    "#     CANAL\n",
    "#     SUITABILITY\n",
    "#     CLASSE_N1\n",
    "#     VAL_POSICAO\n",
    "\n",
    "\n",
    "# AUX FUNC\n",
    "def show_tb(df):\n",
    "    df.show(10)\n",
    "\n",
    "# Dependencies\n",
    "df_canal_assessor = spark.read.table('dim_canal_assessor').where(F.col('CANAL') == F.lit('B2B'))\n",
    "df_conta_suitability = spark.read.table('dim_conta_suitability')\n",
    "df_produto = spark.read.table('dim_produto')\n",
    "df_net_mensal = spark.read.table('fat_net_mensal')\n",
    "\n",
    "\n",
    "df_custodia_conta_mensal = (\n",
    "    df_net_mensal\n",
    "    .join(\n",
    "        df_canal_assessor,\n",
    "        'COD_DIM_CANAL_ASSESSOR',\n",
    "        'inner'\n",
    "    )\n",
    "    .join(\n",
    "        df_conta_suitability,\n",
    "        'COD_DIM_CONTA',\n",
    "        'left'\n",
    "    )\n",
    "    .join(\n",
    "        df_produto,\n",
    "        'COD_DIM_PRODUTO',\n",
    "        'left'\n",
    "    )\n",
    "    .select(\n",
    "        F.col('COD_DIM_TEMPO'),\n",
    "        F.col('COD_DIM_CONTA'),\n",
    "        F.col('SUITABILITY'),\n",
    "        F.col('CANAL'),\n",
    "        F.col('CLASSE_N1'),\n",
    "        F.col('VAL_POSICAO')\n",
    "    )\n",
    ")\n",
    "\n",
    "\n",
    "# Write Table\n",
    "nome_tabela = 'fat_custodia_conta_mensal'\n",
    "(\n",
    "    df_custodia_conta_mensal\n",
    "    .write\n",
    "    .mode('overwrite')\n",
    "    .option(\"overwriteSchema\", \"true\")\n",
    "    .saveAsTable(nome_tabela)\n",
    ")"
   ]
  },
  {
   "cell_type": "markdown",
   "metadata": {
    "application/vnd.databricks.v1+cell": {
     "cellMetadata": {
      "byteLimit": 2048000,
      "rowLimit": 10000
     },
     "inputWidgets": {},
     "nuid": "a0cf0c83-8a3a-4cbe-a946-dbff4117a5ef",
     "showTitle": false,
     "tableResultSettingsMap": {},
     "title": ""
    }
   },
   "source": [
    "# Desafio 1\n",
    "\n",
    "Usando a tabela gerada na primeira etapa com o nome de *fat_custodia_conta_mensal*, faça um agrupamento de tal forma que 1) exiba a custódia mais recente do cliente independente da estratégia e 2) em seguida crie uma coluna que exiba a alocação em cada estratégia de produto para cada cliente.\n",
    "\n",
    "Alocação: % de custódia que o produto tem na carteira"
   ]
  },
  {
   "cell_type": "markdown",
   "metadata": {
    "application/vnd.databricks.v1+cell": {
     "cellMetadata": {
      "byteLimit": 2048000,
      "rowLimit": 10000
     },
     "inputWidgets": {},
     "nuid": "12b0f2ad-4863-48a0-950a-969f64b33134",
     "showTitle": false,
     "tableResultSettingsMap": {},
     "title": ""
    }
   },
   "source": [
    "Layout de resultado esperado:\n",
    "\n",
    "| COD_DIM_CONTA | SUITABILITY | ESTRATEGIA     | CUSTODIA  | ALOCACAO            |\n",
    "|---------------|-------------|----------------|-----------|---------------------|\n",
    "| 13            | Moderado    | Internacional  | 8478.79   | 0.046 |\n",
    "| 13            | Moderado    | Pós-Fixado     | 116706.06 | 0.641  |\n",
    "| 13            | Moderado    | Renda Variável | 56791.49  | 0.312   |\n",
    "| 14            | Moderado    | Internacional  | 848.92   | 0.046 |\n",
    "| 14            | Moderado    | Pós-Fixado     | 116.61 | 0.641  |\n",
    "| 14            | Moderado    | Renda Variável | 791.44  | 0.312   |"
   ]
  },
  {
   "cell_type": "code",
   "execution_count": 0,
   "metadata": {
    "application/vnd.databricks.v1+cell": {
     "cellMetadata": {
      "byteLimit": 2048000,
      "rowLimit": 10000
     },
     "inputWidgets": {},
     "nuid": "4c39dc71-ee3e-4ad4-8f23-9be69b2a5f09",
     "showTitle": false,
     "tableResultSettingsMap": {},
     "title": ""
    }
   },
   "outputs": [],
   "source": [
    "# CASO 1\n",
    "#### CASO EXTRA: CASOS QUE NAO TEM A ESTRATEGIA NO MES, DEVO PREENCHER COM 0 OU NÃO É RELEVANTE\n",
    "\n",
    "\n",
    "wind = Window.partitionBy(\"COD_DIM_CONTA\", \"CLASSE_N1\")\n",
    "\n",
    "df_custodia_mensal_por_estrat = (\n",
    "    df_custodia_conta_mensal\n",
    "    .withColumn(\n",
    "        'last_n1_dt',\n",
    "        F.max('COD_DIM_TEMPO').over(wind)\n",
    "    ).where(\n",
    "        F.col('last_n1_dt') == F.col('COD_DIM_TEMPO')\n",
    "    )\n",
    "    .groupBy(\n",
    "        F.col('COD_DIM_CONTA'),\n",
    "        F.col('CLASSE_N1'),\n",
    "        F.col('SUITABILITY')\n",
    "    )\n",
    "    .agg(\n",
    "        F.sum('val_posicao').alias('CUSTODIA')\n",
    "    )\n",
    "    .withColumn(\n",
    "        'total_cliente',\n",
    "        F.sum('CUSTODIA').over(Window.partitionBy('COD_DIM_CONTA'))\n",
    "    )\n",
    "    .withColumn(\n",
    "        'ALOCACAO',\n",
    "        F.col('CUSTODIA') / F.col('total_cliente')\n",
    "    )\n",
    "    .drop('total_cliente')\n",
    "    .distinct()\n",
    ")\n",
    "\n",
    "\n",
    "\n",
    "\n",
    "\n",
    "# ###### CASO 2\n",
    "\n",
    "# df_last_custody_strategy = (\n",
    "#     df_custodia_conta_mensal\n",
    "#     .groupBy(\n",
    "#         F.col('COD_DIM_CONTA'),\n",
    "#         F.col('CLASSE_N1'),\n",
    "#         F.col('SUITABILITY')\n",
    "#     )\n",
    "#     .agg(\n",
    "#         F.max(F.col('COD_DIM_TEMPO')).alias('COD_DIM_TEMPO')\n",
    "#     )\n",
    "# )\n",
    "\n",
    "# df_last_custody_distribution = (\n",
    "#     df_last_custody_strategy\n",
    "#     .join(\n",
    "#         df_custodia_conta_mensal,\n",
    "#         [\n",
    "#             'COD_DIM_TEMPO',\n",
    "#             'COD_DIM_CONTA',\n",
    "#             'CLASSE_N1',\n",
    "#             'SUITABILITY'\n",
    "#         ],\n",
    "#         'inner'\n",
    "#     )\n",
    "#     .groupBy(\n",
    "#         F.col('COD_DIM_CONTA'),\n",
    "#         F.col('CLASSE_N1'),\n",
    "#         F.col('SUITABILITY')\n",
    "#     )\n",
    "#     .agg(F.sum(F.col('val_posicao')).alias('CUSTODIA'))\n",
    "#     .withColumn(\n",
    "#         'Total_cliente',\n",
    "#         F.sum('CUSTODIA').over(Window.partitionBy('cod_dim_conta'))\n",
    "#     )\n",
    "#     .withColumn(\n",
    "#         'ALOCACAO',\n",
    "#         F.col('CUSTODIA') / F.col('Total_cliente')\n",
    "#     )\n",
    "#     .drop('Total_cliente')\n",
    "# )\n",
    "\n",
    "\n",
    "\n"
   ]
  },
  {
   "cell_type": "markdown",
   "metadata": {
    "application/vnd.databricks.v1+cell": {
     "cellMetadata": {
      "byteLimit": 2048000,
      "rowLimit": 10000
     },
     "inputWidgets": {},
     "nuid": "7f6a30fc-fb96-4bde-aa70-b91bd181e309",
     "showTitle": false,
     "tableResultSettingsMap": {},
     "title": ""
    }
   },
   "source": [
    "# Desafio 2\n",
    "\n",
    "Calcule a diferença de alocação em cada estratégia de produto baseado na alocação recomendada pela tabela *FAT_RECOMENDACAO*. Essa nova coluna deve mostrar a diferença em pontos percentuais (valor absoluto) entre a carteira do cliente e a carteira recomendada. Após isso filtre os 5 clientes com maior diferença de alocação.\n",
    "\n",
    "**Notas:**\n",
    "- Para filtrar os 5 clientes com maior diferença de alocação é preciso descobrir a diferença de alocação total por cliente (desconsiderando a quebra de estratégia).\n",
    "- Adote como premissa que vamos usar a recomendação mais recente da fat_recomendacao, você pode fazer isso filtrando a data máxima"
   ]
  },
  {
   "cell_type": "markdown",
   "metadata": {
    "application/vnd.databricks.v1+cell": {
     "cellMetadata": {
      "byteLimit": 2048000,
      "rowLimit": 10000
     },
     "inputWidgets": {},
     "nuid": "d2efd55d-fbc1-482f-81ec-77a0e46d535a",
     "showTitle": false,
     "tableResultSettingsMap": {},
     "title": ""
    }
   },
   "source": [
    "Nessa etapa você precisará usar o resultado do exercício anterior. \n",
    "\n",
    "Além de usar o resultado do exercício anterior, use a tabela fat_recomendacao disponibilizada para chegar ao resultado esperado, lembrando que a recomendação é feita para cada classe de ativo de acordo com o suitability e isso pode mudar todos os meses\n"
   ]
  },
  {
   "cell_type": "code",
   "execution_count": 0,
   "metadata": {
    "application/vnd.databricks.v1+cell": {
     "cellMetadata": {
      "byteLimit": 2048000,
      "rowLimit": 10000
     },
     "inputWidgets": {},
     "nuid": "d9d533a4-91a0-4bdf-9e32-adca5ef786db",
     "showTitle": false,
     "tableResultSettingsMap": {},
     "title": ""
    }
   },
   "outputs": [
    {
     "output_type": "stream",
     "name": "stdout",
     "output_type": "stream",
     "text": [
      "+-----------+--------------+-------------+------------------+-------------------+--------------------+-------------------+--------------------+---+\n|SUITABILITY|     CLASSE_N1|COD_DIM_CONTA|          CUSTODIA|           ALOCACAO|ALOCACAO_RECOMENDADA|     DESVIO_ALOCADO|TOTAL_DESVIO_CLIENTE| rn|\n+-----------+--------------+-------------+------------------+-------------------+--------------------+-------------------+--------------------+---+\n|   Moderado| Internacional|          128|          126687.8|0.35113728298173585|                 0.1| 0.2511372829817359|  1.2425486218834916|  1|\n|   Moderado|    Pós-Fixado|          128|          64482.94|0.17872568905825417|                 0.8| 0.6212743109417459|  1.2425486218834916|  1|\n|   Moderado|Renda Variável|          128|169622.05000000002|0.47013702796000995|                 0.1| 0.3701370279600099|  1.2425486218834916|  1|\n|Conservador| Internacional|          135|          42395.36|0.13800940402644835|                 0.1|0.03800940402644834|  1.1761055877073812|  2|\n|Conservador|    Pós-Fixado|          135| 95827.62999999999|0.31194720614630944|                 0.9| 0.5880527938536906|  1.1761055877073812|  2|\n|Conservador|Renda Variável|          135|168968.83000000002| 0.5500433898272422|                 0.0| 0.5500433898272422|  1.1761055877073812|  2|\n|Conservador| Internacional|           40|          51676.24|0.20772251783476608|                 0.1|0.10772251783476608|  1.1437975001863128|  3|\n|Conservador|    Pós-Fixado|           40|           81623.5|0.32810124990684364|                 0.9| 0.5718987500931564|  1.1437975001863128|  3|\n|Conservador|Renda Variável|           40|          115475.6| 0.4641762322583903|                 0.0| 0.4641762322583903|  1.1437975001863128|  3|\n|Conservador| Internacional|          100|          70229.62|  0.399473736151943|                 0.1|0.29947373615194295|  0.8156414466340187|  4|\n|Conservador|    Pós-Fixado|          100|          86527.75|0.49217927668299055|                 0.9|0.40782072331700947|  0.8156414466340187|  4|\n|Conservador|Renda Variável|          100|          19047.98|0.10834698716506636|                 0.0|0.10834698716506636|  0.8156414466340187|  4|\n|  Agressivo| Internacional|           87|          89706.74| 0.3182064437106894|                0.29|0.02820644371068942|  0.6333762341766707|  5|\n|  Agressivo|    Pós-Fixado|           87|         163081.88| 0.5784816733776459|                0.29| 0.2884816733776459|  0.6333762341766707|  5|\n|  Agressivo|Renda Variável|           87|          29125.03| 0.1033118829116646|                0.42| 0.3166881170883354|  0.6333762341766707|  5|\n+-----------+--------------+-------------+------------------+-------------------+--------------------+-------------------+--------------------+---+\n\n"
     ]
    }
   ],
   "source": [
    "df_recomendacao = spark.read.table('fat_recomendacao')\n",
    "\n",
    "# Ver o que fica mais performatico depois, se é um group by com join ou window function\n",
    "\n",
    "df_recomendacao = (\n",
    "    df_recomendacao\n",
    "    .withColumn(\n",
    "        'dt_max',\n",
    "        F.max(F.col('cod_dim_tempo')).over(Window.partitionBy('SUITABILITY'))\n",
    "    )\n",
    "    .where(F.col('COD_DIM_TEMPO') == F.col('dt_max'))\n",
    "    .drop('dt_max')\n",
    ")\n",
    "\n",
    "\n",
    "df_calc_desvio = (\n",
    "    df_custodia_mensal_por_estrat\n",
    "    .join(\n",
    "        df_recomendacao,\n",
    "        ['SUITABILITY', 'CLASSE_N1'],\n",
    "        'left'\n",
    "    )\n",
    "    .withColumn(\n",
    "        'DESVIO_ALOCADO',\n",
    "        F.abs(F.col('ALOCACAO') - F.col('ALOCACAO_RECOMENDADA'))\n",
    "    )\n",
    "    .drop('COD_DIM_TEMPO')\n",
    ")\n",
    "\n",
    "df_top_5 = (\n",
    "    df_calc_desvio\n",
    "    .withColumn(\n",
    "        'TOTAL_DESVIO_CLIENTE',\n",
    "        F.sum(F.col('DESVIO_ALOCADO')).over(Window.partitionBy('COD_DIM_CONTA'))\n",
    "    )\n",
    "    .withColumn(\n",
    "        'rn',\n",
    "        F.dense_rank().over(Window.orderBy(F.col('TOTAL_DESVIO_CLIENTE').desc()))\n",
    "    )\n",
    "    .where(F.col('rn') <= F.lit(5))\n",
    ")\n",
    "\n",
    "df_top_5.show(20)"
   ]
  },
  {
   "cell_type": "markdown",
   "metadata": {
    "application/vnd.databricks.v1+cell": {
     "cellMetadata": {
      "byteLimit": 2048000,
      "rowLimit": 10000
     },
     "inputWidgets": {},
     "nuid": "aaec9063-dd86-4eac-b6de-443def6ba0e7",
     "showTitle": false,
     "tableResultSettingsMap": {},
     "title": ""
    }
   },
   "source": [
    "Layout de resultado esperado:\n",
    "\n",
    "| COD_DIM_CONTA | SUITABILITY | ESTRATEGIA     | CUSTODIA | ALOCACAO            | ALOCACAO_RECOMENDADA | DESVIO_ALOCACAO     |\n",
    "|---------------|-------------|----------------|----------|---------------------|----------------------|---------------------|\n",
    "| 40            | Conservador | Internacional  | 51676.24 | 0.207 | 0.1                  | 0.107 |\n",
    "| 40            | Conservador | Pós-Fixado     | 81623.5  | 0.328 | 0.9                  | 0.571  |\n",
    "| 40            | Conservador | Renda Variável | 115475.6 | 0.464  | 0                   | 0.464  |"
   ]
  },
  {
   "cell_type": "code",
   "execution_count": 0,
   "metadata": {
    "application/vnd.databricks.v1+cell": {
     "cellMetadata": {
      "byteLimit": 2048000,
      "implicitDf": true,
      "rowLimit": 10000
     },
     "inputWidgets": {},
     "nuid": "b277edfa-2686-4284-9748-54d972cee3ff",
     "showTitle": false,
     "tableResultSettingsMap": {},
     "title": ""
    }
   },
   "outputs": [
    {
     "output_type": "display_data",
     "data": {
      "text/html": [
       "<style scoped>\n",
       "  .table-result-container {\n",
       "    max-height: 300px;\n",
       "    overflow: auto;\n",
       "  }\n",
       "  table, th, td {\n",
       "    border: 1px solid black;\n",
       "    border-collapse: collapse;\n",
       "  }\n",
       "  th, td {\n",
       "    padding: 5px;\n",
       "  }\n",
       "  th {\n",
       "    text-align: left;\n",
       "  }\n",
       "</style><div class='table-result-container'><table class='table-result'><thead style='background-color: white'><tr><th>COD_DIM_TEMPO</th><th>SUITABILITY</th><th>CLASSE_N1</th><th>ALOCACAO_RECOMENDADA</th></tr></thead><tbody><tr><td>20210131</td><td>Conservador</td><td>Renda Variável</td><td>0.0</td></tr><tr><td>20210131</td><td>Conservador</td><td>Pós-Fixado</td><td>0.96</td></tr><tr><td>20210131</td><td>Conservador</td><td>Internacional</td><td>0.04</td></tr><tr><td>20210228</td><td>Conservador</td><td>Renda Variável</td><td>0.0</td></tr><tr><td>20210228</td><td>Conservador</td><td>Pós-Fixado</td><td>0.95</td></tr><tr><td>20210228</td><td>Conservador</td><td>Internacional</td><td>0.05</td></tr><tr><td>20210331</td><td>Conservador</td><td>Renda Variável</td><td>0.0</td></tr><tr><td>20210331</td><td>Conservador</td><td>Pós-Fixado</td><td>0.85</td></tr><tr><td>20210331</td><td>Conservador</td><td>Internacional</td><td>0.15</td></tr><tr><td>20210430</td><td>Conservador</td><td>Renda Variável</td><td>0.0</td></tr><tr><td>20210430</td><td>Conservador</td><td>Pós-Fixado</td><td>0.84</td></tr><tr><td>20210430</td><td>Conservador</td><td>Internacional</td><td>0.16</td></tr><tr><td>20210531</td><td>Conservador</td><td>Renda Variável</td><td>0.0</td></tr><tr><td>20210531</td><td>Conservador</td><td>Pós-Fixado</td><td>1.0</td></tr><tr><td>20210531</td><td>Conservador</td><td>Internacional</td><td>0.0</td></tr><tr><td>20210630</td><td>Conservador</td><td>Renda Variável</td><td>0.0</td></tr><tr><td>20210630</td><td>Conservador</td><td>Pós-Fixado</td><td>1.0</td></tr><tr><td>20210630</td><td>Conservador</td><td>Internacional</td><td>0.0</td></tr><tr><td>20210731</td><td>Conservador</td><td>Renda Variável</td><td>0.0</td></tr><tr><td>20210731</td><td>Conservador</td><td>Pós-Fixado</td><td>1.0</td></tr><tr><td>20210731</td><td>Conservador</td><td>Internacional</td><td>0.0</td></tr><tr><td>20210831</td><td>Conservador</td><td>Renda Variável</td><td>0.0</td></tr><tr><td>20210831</td><td>Conservador</td><td>Pós-Fixado</td><td>1.0</td></tr><tr><td>20210831</td><td>Conservador</td><td>Internacional</td><td>0.0</td></tr><tr><td>20210930</td><td>Conservador</td><td>Renda Variável</td><td>0.0</td></tr><tr><td>20210930</td><td>Conservador</td><td>Pós-Fixado</td><td>0.88</td></tr><tr><td>20210930</td><td>Conservador</td><td>Internacional</td><td>0.12</td></tr><tr><td>20211031</td><td>Conservador</td><td>Renda Variável</td><td>0.0</td></tr><tr><td>20211031</td><td>Conservador</td><td>Pós-Fixado</td><td>0.9</td></tr><tr><td>20211031</td><td>Conservador</td><td>Internacional</td><td>0.1</td></tr><tr><td>20210131</td><td>Moderado</td><td>Renda Variável</td><td>0.15</td></tr><tr><td>20210131</td><td>Moderado</td><td>Pós-Fixado</td><td>0.75</td></tr><tr><td>20210131</td><td>Moderado</td><td>Internacional</td><td>0.1</td></tr><tr><td>20210228</td><td>Moderado</td><td>Renda Variável</td><td>0.1</td></tr><tr><td>20210228</td><td>Moderado</td><td>Pós-Fixado</td><td>0.8</td></tr><tr><td>20210228</td><td>Moderado</td><td>Internacional</td><td>0.1</td></tr><tr><td>20210331</td><td>Moderado</td><td>Renda Variável</td><td>0.1</td></tr><tr><td>20210331</td><td>Moderado</td><td>Pós-Fixado</td><td>0.78</td></tr><tr><td>20210331</td><td>Moderado</td><td>Internacional</td><td>0.22</td></tr><tr><td>20210430</td><td>Moderado</td><td>Renda Variável</td><td>0.8</td></tr><tr><td>20210430</td><td>Moderado</td><td>Pós-Fixado</td><td>0.82</td></tr><tr><td>20210430</td><td>Moderado</td><td>Internacional</td><td>0.1</td></tr><tr><td>20210531</td><td>Moderado</td><td>Renda Variável</td><td>0.15</td></tr><tr><td>20210531</td><td>Moderado</td><td>Pós-Fixado</td><td>0.68</td></tr><tr><td>20210531</td><td>Moderado</td><td>Internacional</td><td>0.17</td></tr><tr><td>20210630</td><td>Moderado</td><td>Renda Variável</td><td>0.09</td></tr><tr><td>20210630</td><td>Moderado</td><td>Pós-Fixado</td><td>0.7</td></tr><tr><td>20210630</td><td>Moderado</td><td>Internacional</td><td>0.21</td></tr><tr><td>20210731</td><td>Moderado</td><td>Renda Variável</td><td>0.12</td></tr><tr><td>20210731</td><td>Moderado</td><td>Pós-Fixado</td><td>0.74</td></tr><tr><td>20210731</td><td>Moderado</td><td>Internacional</td><td>0.14</td></tr><tr><td>20210831</td><td>Moderado</td><td>Renda Variável</td><td>0.19</td></tr><tr><td>20210831</td><td>Moderado</td><td>Pós-Fixado</td><td>0.73</td></tr><tr><td>20210831</td><td>Moderado</td><td>Internacional</td><td>0.08</td></tr><tr><td>20210930</td><td>Moderado</td><td>Renda Variável</td><td>0.17</td></tr><tr><td>20210930</td><td>Moderado</td><td>Pós-Fixado</td><td>0.66</td></tr><tr><td>20210930</td><td>Moderado</td><td>Internacional</td><td>0.17</td></tr><tr><td>20211031</td><td>Moderado</td><td>Renda Variável</td><td>0.1</td></tr><tr><td>20211031</td><td>Moderado</td><td>Pós-Fixado</td><td>0.8</td></tr><tr><td>20211031</td><td>Moderado</td><td>Internacional</td><td>0.1</td></tr><tr><td>20210131</td><td>Agressivo</td><td>Renda Variável</td><td>0.4</td></tr><tr><td>20210131</td><td>Agressivo</td><td>Pós-Fixado</td><td>0.3</td></tr><tr><td>20210131</td><td>Agressivo</td><td>Internacional</td><td>0.3</td></tr><tr><td>20210228</td><td>Agressivo</td><td>Renda Variável</td><td>0.42</td></tr><tr><td>20210228</td><td>Agressivo</td><td>Pós-Fixado</td><td>0.28</td></tr><tr><td>20210228</td><td>Agressivo</td><td>Internacional</td><td>0.3</td></tr><tr><td>20210331</td><td>Agressivo</td><td>Renda Variável</td><td>0.38</td></tr><tr><td>20210331</td><td>Agressivo</td><td>Pós-Fixado</td><td>0.42</td></tr><tr><td>20210331</td><td>Agressivo</td><td>Internacional</td><td>0.2</td></tr><tr><td>20210430</td><td>Agressivo</td><td>Renda Variável</td><td>0.5</td></tr><tr><td>20210430</td><td>Agressivo</td><td>Pós-Fixado</td><td>0.25</td></tr><tr><td>20210430</td><td>Agressivo</td><td>Internacional</td><td>0.25</td></tr><tr><td>20210531</td><td>Agressivo</td><td>Renda Variável</td><td>0.42</td></tr><tr><td>20210531</td><td>Agressivo</td><td>Pós-Fixado</td><td>0.29</td></tr><tr><td>20210531</td><td>Agressivo</td><td>Internacional</td><td>0.29</td></tr><tr><td>20210630</td><td>Agressivo</td><td>Renda Variável</td><td>0.4</td></tr><tr><td>20210630</td><td>Agressivo</td><td>Pós-Fixado</td><td>0.28</td></tr><tr><td>20210630</td><td>Agressivo</td><td>Internacional</td><td>0.32</td></tr><tr><td>20210731</td><td>Agressivo</td><td>Renda Variável</td><td>0.45</td></tr><tr><td>20210731</td><td>Agressivo</td><td>Pós-Fixado</td><td>0.27</td></tr><tr><td>20210731</td><td>Agressivo</td><td>Internacional</td><td>0.28</td></tr><tr><td>20210831</td><td>Agressivo</td><td>Renda Variável</td><td>0.43</td></tr><tr><td>20210831</td><td>Agressivo</td><td>Pós-Fixado</td><td>0.29</td></tr><tr><td>20210831</td><td>Agressivo</td><td>Internacional</td><td>0.28</td></tr><tr><td>20210930</td><td>Agressivo</td><td>Renda Variável</td><td>0.44</td></tr><tr><td>20210930</td><td>Agressivo</td><td>Pós-Fixado</td><td>0.28</td></tr><tr><td>20210930</td><td>Agressivo</td><td>Internacional</td><td>0.28</td></tr><tr><td>20211031</td><td>Agressivo</td><td>Renda Variável</td><td>0.42</td></tr><tr><td>20211031</td><td>Agressivo</td><td>Pós-Fixado</td><td>0.29</td></tr><tr><td>20211031</td><td>Agressivo</td><td>Internacional</td><td>0.29</td></tr></tbody></table></div>"
      ]
     },
     "metadata": {
      "application/vnd.databricks.v1+output": {
       "addedWidgets": {},
       "aggData": [],
       "aggError": "",
       "aggOverflow": false,
       "aggSchema": [],
       "aggSeriesLimitReached": false,
       "aggType": "",
       "arguments": {},
       "columnCustomDisplayInfos": {},
       "data": [
        [
         20210131,
         "Conservador",
         "Renda Variável",
         0.0
        ],
        [
         20210131,
         "Conservador",
         "Pós-Fixado",
         0.96
        ],
        [
         20210131,
         "Conservador",
         "Internacional",
         0.04
        ],
        [
         20210228,
         "Conservador",
         "Renda Variável",
         0.0
        ],
        [
         20210228,
         "Conservador",
         "Pós-Fixado",
         0.95
        ],
        [
         20210228,
         "Conservador",
         "Internacional",
         0.05
        ],
        [
         20210331,
         "Conservador",
         "Renda Variável",
         0.0
        ],
        [
         20210331,
         "Conservador",
         "Pós-Fixado",
         0.85
        ],
        [
         20210331,
         "Conservador",
         "Internacional",
         0.15
        ],
        [
         20210430,
         "Conservador",
         "Renda Variável",
         0.0
        ],
        [
         20210430,
         "Conservador",
         "Pós-Fixado",
         0.84
        ],
        [
         20210430,
         "Conservador",
         "Internacional",
         0.16
        ],
        [
         20210531,
         "Conservador",
         "Renda Variável",
         0.0
        ],
        [
         20210531,
         "Conservador",
         "Pós-Fixado",
         1.0
        ],
        [
         20210531,
         "Conservador",
         "Internacional",
         0.0
        ],
        [
         20210630,
         "Conservador",
         "Renda Variável",
         0.0
        ],
        [
         20210630,
         "Conservador",
         "Pós-Fixado",
         1.0
        ],
        [
         20210630,
         "Conservador",
         "Internacional",
         0.0
        ],
        [
         20210731,
         "Conservador",
         "Renda Variável",
         0.0
        ],
        [
         20210731,
         "Conservador",
         "Pós-Fixado",
         1.0
        ],
        [
         20210731,
         "Conservador",
         "Internacional",
         0.0
        ],
        [
         20210831,
         "Conservador",
         "Renda Variável",
         0.0
        ],
        [
         20210831,
         "Conservador",
         "Pós-Fixado",
         1.0
        ],
        [
         20210831,
         "Conservador",
         "Internacional",
         0.0
        ],
        [
         20210930,
         "Conservador",
         "Renda Variável",
         0.0
        ],
        [
         20210930,
         "Conservador",
         "Pós-Fixado",
         0.88
        ],
        [
         20210930,
         "Conservador",
         "Internacional",
         0.12
        ],
        [
         20211031,
         "Conservador",
         "Renda Variável",
         0.0
        ],
        [
         20211031,
         "Conservador",
         "Pós-Fixado",
         0.9
        ],
        [
         20211031,
         "Conservador",
         "Internacional",
         0.1
        ],
        [
         20210131,
         "Moderado",
         "Renda Variável",
         0.15
        ],
        [
         20210131,
         "Moderado",
         "Pós-Fixado",
         0.75
        ],
        [
         20210131,
         "Moderado",
         "Internacional",
         0.1
        ],
        [
         20210228,
         "Moderado",
         "Renda Variável",
         0.1
        ],
        [
         20210228,
         "Moderado",
         "Pós-Fixado",
         0.8
        ],
        [
         20210228,
         "Moderado",
         "Internacional",
         0.1
        ],
        [
         20210331,
         "Moderado",
         "Renda Variável",
         0.1
        ],
        [
         20210331,
         "Moderado",
         "Pós-Fixado",
         0.78
        ],
        [
         20210331,
         "Moderado",
         "Internacional",
         0.22
        ],
        [
         20210430,
         "Moderado",
         "Renda Variável",
         0.8
        ],
        [
         20210430,
         "Moderado",
         "Pós-Fixado",
         0.82
        ],
        [
         20210430,
         "Moderado",
         "Internacional",
         0.1
        ],
        [
         20210531,
         "Moderado",
         "Renda Variável",
         0.15
        ],
        [
         20210531,
         "Moderado",
         "Pós-Fixado",
         0.68
        ],
        [
         20210531,
         "Moderado",
         "Internacional",
         0.17
        ],
        [
         20210630,
         "Moderado",
         "Renda Variável",
         0.09
        ],
        [
         20210630,
         "Moderado",
         "Pós-Fixado",
         0.7
        ],
        [
         20210630,
         "Moderado",
         "Internacional",
         0.21
        ],
        [
         20210731,
         "Moderado",
         "Renda Variável",
         0.12
        ],
        [
         20210731,
         "Moderado",
         "Pós-Fixado",
         0.74
        ],
        [
         20210731,
         "Moderado",
         "Internacional",
         0.14
        ],
        [
         20210831,
         "Moderado",
         "Renda Variável",
         0.19
        ],
        [
         20210831,
         "Moderado",
         "Pós-Fixado",
         0.73
        ],
        [
         20210831,
         "Moderado",
         "Internacional",
         0.08
        ],
        [
         20210930,
         "Moderado",
         "Renda Variável",
         0.17
        ],
        [
         20210930,
         "Moderado",
         "Pós-Fixado",
         0.66
        ],
        [
         20210930,
         "Moderado",
         "Internacional",
         0.17
        ],
        [
         20211031,
         "Moderado",
         "Renda Variável",
         0.1
        ],
        [
         20211031,
         "Moderado",
         "Pós-Fixado",
         0.8
        ],
        [
         20211031,
         "Moderado",
         "Internacional",
         0.1
        ],
        [
         20210131,
         "Agressivo",
         "Renda Variável",
         0.4
        ],
        [
         20210131,
         "Agressivo",
         "Pós-Fixado",
         0.3
        ],
        [
         20210131,
         "Agressivo",
         "Internacional",
         0.3
        ],
        [
         20210228,
         "Agressivo",
         "Renda Variável",
         0.42
        ],
        [
         20210228,
         "Agressivo",
         "Pós-Fixado",
         0.28
        ],
        [
         20210228,
         "Agressivo",
         "Internacional",
         0.3
        ],
        [
         20210331,
         "Agressivo",
         "Renda Variável",
         0.38
        ],
        [
         20210331,
         "Agressivo",
         "Pós-Fixado",
         0.42
        ],
        [
         20210331,
         "Agressivo",
         "Internacional",
         0.2
        ],
        [
         20210430,
         "Agressivo",
         "Renda Variável",
         0.5
        ],
        [
         20210430,
         "Agressivo",
         "Pós-Fixado",
         0.25
        ],
        [
         20210430,
         "Agressivo",
         "Internacional",
         0.25
        ],
        [
         20210531,
         "Agressivo",
         "Renda Variável",
         0.42
        ],
        [
         20210531,
         "Agressivo",
         "Pós-Fixado",
         0.29
        ],
        [
         20210531,
         "Agressivo",
         "Internacional",
         0.29
        ],
        [
         20210630,
         "Agressivo",
         "Renda Variável",
         0.4
        ],
        [
         20210630,
         "Agressivo",
         "Pós-Fixado",
         0.28
        ],
        [
         20210630,
         "Agressivo",
         "Internacional",
         0.32
        ],
        [
         20210731,
         "Agressivo",
         "Renda Variável",
         0.45
        ],
        [
         20210731,
         "Agressivo",
         "Pós-Fixado",
         0.27
        ],
        [
         20210731,
         "Agressivo",
         "Internacional",
         0.28
        ],
        [
         20210831,
         "Agressivo",
         "Renda Variável",
         0.43
        ],
        [
         20210831,
         "Agressivo",
         "Pós-Fixado",
         0.29
        ],
        [
         20210831,
         "Agressivo",
         "Internacional",
         0.28
        ],
        [
         20210930,
         "Agressivo",
         "Renda Variável",
         0.44
        ],
        [
         20210930,
         "Agressivo",
         "Pós-Fixado",
         0.28
        ],
        [
         20210930,
         "Agressivo",
         "Internacional",
         0.28
        ],
        [
         20211031,
         "Agressivo",
         "Renda Variável",
         0.42
        ],
        [
         20211031,
         "Agressivo",
         "Pós-Fixado",
         0.29
        ],
        [
         20211031,
         "Agressivo",
         "Internacional",
         0.29
        ]
       ],
       "datasetInfos": [],
       "dbfsResultPath": null,
       "isJsonSchema": true,
       "metadata": {},
       "overflow": false,
       "plotOptions": {
        "customPlotOptions": {},
        "displayType": "table",
        "pivotAggregation": null,
        "pivotColumns": null,
        "xColumns": null,
        "yColumns": null
       },
       "removedWidgets": [],
       "schema": [
        {
         "metadata": "{}",
         "name": "COD_DIM_TEMPO",
         "type": "\"integer\""
        },
        {
         "metadata": "{}",
         "name": "SUITABILITY",
         "type": "\"string\""
        },
        {
         "metadata": "{}",
         "name": "CLASSE_N1",
         "type": "\"string\""
        },
        {
         "metadata": "{}",
         "name": "ALOCACAO_RECOMENDADA",
         "type": "\"double\""
        }
       ],
       "type": "table"
      }
     },
     "output_type": "display_data"
    }
   ],
   "source": [
    "%sql\n",
    "use catalog `hive_metastore`; select * from `default`.`fat_recomendacao` limit 100;"
   ]
  },
  {
   "cell_type": "markdown",
   "metadata": {
    "application/vnd.databricks.v1+cell": {
     "cellMetadata": {
      "byteLimit": 2048000,
      "rowLimit": 10000
     },
     "inputWidgets": {},
     "nuid": "d5303a20-009b-4b18-a9d6-16351dbf0045",
     "showTitle": false,
     "tableResultSettingsMap": {},
     "title": ""
    }
   },
   "source": [
    "# Desafio 3\n",
    "\n",
    "Bem agora que você construíu os dados de alocação recomendada e sabe melhor como está a carteira dos clientes, quais seriam os próximos passos? Sinta-se a vontade para usar todas as tabelas disponibilizadas até então.\n",
    "\n",
    "Além disso o time de produtos te disponibilizou uma tabela com o ROA médio para cada estratégia de produto. Essa tabela pode ser acessada com o nome de *TB_ROA_MEDIO*\n",
    "\n",
    "**Notas:**\n",
    "- ROA = Revenue Over Assets = Receita / Custódia\n",
    "- Receita = Dinheiro que a XP ganha com taxas, ou operações do cliente\n",
    "- Custódia = Dinheiro dos clientes que está investido dentro da plataforma XP"
   ]
  },
  {
   "cell_type": "code",
   "execution_count": 0,
   "metadata": {
    "application/vnd.databricks.v1+cell": {
     "cellMetadata": {
      "byteLimit": 2048000,
      "rowLimit": 10000
     },
     "inputWidgets": {},
     "nuid": "dd7a4ce9-6675-444c-969e-e591370e1d55",
     "showTitle": false,
     "tableResultSettingsMap": {},
     "title": ""
    }
   },
   "outputs": [],
   "source": []
  },
  {
   "cell_type": "markdown",
   "metadata": {
    "application/vnd.databricks.v1+cell": {
     "cellMetadata": {
      "byteLimit": 2048000,
      "rowLimit": 10000
     },
     "inputWidgets": {},
     "nuid": "0e2482c9-4384-4d71-a79a-bb786e6bf886",
     "showTitle": false,
     "tableResultSettingsMap": {},
     "title": ""
    }
   },
   "source": [
    "**Sugestões de evolução:**\n",
    "\n",
    "Sinta-se à vontade para fazer qualquer uma das sugestões ou ainda qualquer outra ideia que você tiver, use a criatividade e mostre seus conhecimentos técnicos, lembre-se que aqui no databricks você pode usar não só o SQL mas também o Python ou R caso você tenha conhecimento sob essas linguagens. Se achar válido explore seus conhecimentos em estatística, Pandas, Sklearn ou outros.\n",
    "\n",
    "Algumas sugestões:\n",
    "- Calcular a receita potencial gerada com a alocação recomendada dos clientes, ou seja, hoje os clientes possuem um desvio para a alocação recomendada, se esses clientes vendessem seus ativos e comprassem outros quanto de receita ele geraria para a XP? Você pode usar a tabela de ROA médio por estratégia de produto para fazer esse cálculo\n",
    "- Analisar quais eram os clientes com maior custódia total por suitability\n",
    "- Analisar os produtos com maior alocação dos clientes dentro do canal B2C\n",
    "- Analisar o histórico de distribuição de produtos do cliente com os maiores desvios atualmente\n",
    "- Exibir alguns gráficos usando o databricks ou o python\n",
    "- Fazer uma projeção de custódia total do canal B2B e B2C"
   ]
  },
  {
   "cell_type": "code",
   "execution_count": 0,
   "metadata": {
    "application/vnd.databricks.v1+cell": {
     "cellMetadata": {
      "byteLimit": 2048000,
      "rowLimit": 10000
     },
     "inputWidgets": {},
     "nuid": "b32d1037-828c-43cc-8f83-32e9ca5787bd",
     "showTitle": false,
     "tableResultSettingsMap": {},
     "title": ""
    }
   },
   "outputs": [],
   "source": []
  },
  {
   "cell_type": "code",
   "execution_count": 0,
   "metadata": {
    "application/vnd.databricks.v1+cell": {
     "cellMetadata": {
      "byteLimit": 2048000,
      "rowLimit": 10000
     },
     "inputWidgets": {},
     "nuid": "70bcec40-d68a-4677-8e38-3274b214083e",
     "showTitle": false,
     "tableResultSettingsMap": {},
     "title": ""
    }
   },
   "outputs": [],
   "source": []
  },
  {
   "cell_type": "code",
   "execution_count": 0,
   "metadata": {
    "application/vnd.databricks.v1+cell": {
     "cellMetadata": {
      "byteLimit": 2048000,
      "rowLimit": 10000
     },
     "inputWidgets": {},
     "nuid": "8e1f9b02-bfdb-439c-a22f-c1453c959e83",
     "showTitle": false,
     "tableResultSettingsMap": {},
     "title": ""
    }
   },
   "outputs": [],
   "source": []
  }
 ],
 "metadata": {
  "application/vnd.databricks.v1+notebook": {
   "dashboards": [],
   "environmentMetadata": null,
   "language": "python",
   "notebookMetadata": {
    "mostRecentlyExecutedCommandWithImplicitDF": {
     "commandId": 411437303259416,
     "dataframes": [
      "_sqldf"
     ]
    },
    "pythonIndentUnit": 4
   },
   "notebookName": "CaseTechAE_XP202412",
   "widgets": {}
  },
  "language_info": {
   "name": "sql"
  }
 },
 "nbformat": 4,
 "nbformat_minor": 0
}
